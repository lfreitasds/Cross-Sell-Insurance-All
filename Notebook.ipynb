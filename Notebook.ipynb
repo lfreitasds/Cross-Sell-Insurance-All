{
 "cells": [
  {
   "cell_type": "markdown",
   "id": "00e9dade",
   "metadata": {},
   "source": [
    "# 0.0. IMPORTS"
   ]
  },
  {
   "cell_type": "markdown",
   "id": "7fa4250d",
   "metadata": {},
   "source": [
    "## 0.1. Helper Functions"
   ]
  },
  {
   "cell_type": "code",
   "execution_count": 2,
   "id": "fd6ca998",
   "metadata": {},
   "outputs": [
    {
     "name": "stdout",
     "output_type": "stream",
     "text": [
      "%pylab is deprecated, use %matplotlib inline and import the required libraries.\n",
      "Populating the interactive namespace from numpy and matplotlib\n"
     ]
    },
    {
     "data": {
      "text/html": [
       "<style>.container { width:100% !important; }</style>"
      ],
      "text/plain": [
       "<IPython.core.display.HTML object>"
      ]
     },
     "metadata": {},
     "output_type": "display_data"
    }
   ],
   "source": [
    "def jupyter_settings():\n",
    "    %matplotlib inline\n",
    "    %pylab inline\n",
    "    plt.style.use( 'bmh' )\n",
    "    plt.rcParams['figure.figsize'] = [25, 12]\n",
    "    plt.rcParams['font.size'] = 24\n",
    "    display( HTML( '<style>.container { width:100% !important; }</style>') )\n",
    "    pd.options.display.max_columns = None\n",
    "    pd.options.display.max_rows = None\n",
    "    pd.set_option( 'display.expand_frame_repr', False )\n",
    "    sns.set()\n",
    "jupyter_settings() "
   ]
  },
  {
   "cell_type": "markdown",
   "id": "19228a8a",
   "metadata": {},
   "source": [
    "## 0.2. Loading Data"
   ]
  },
  {
   "cell_type": "markdown",
   "id": "0869a24b",
   "metadata": {},
   "source": [
    "# 1.0. STEP 01 - DATA DESCRIPTION"
   ]
  },
  {
   "cell_type": "markdown",
   "id": "5ea79db4",
   "metadata": {},
   "source": [
    "## 1.1. Rename Columns"
   ]
  },
  {
   "cell_type": "markdown",
   "id": "f029c1c9",
   "metadata": {},
   "source": [
    "## 1.2. Data Dimensions"
   ]
  },
  {
   "cell_type": "markdown",
   "id": "311c42ab",
   "metadata": {},
   "source": [
    "## 1.3. Data Types "
   ]
  },
  {
   "cell_type": "markdown",
   "id": "e6c040e5",
   "metadata": {},
   "source": [
    "## 1.4. Check NA "
   ]
  },
  {
   "cell_type": "markdown",
   "id": "0104093b",
   "metadata": {},
   "source": [
    "## 1.5. Fillout NA "
   ]
  },
  {
   "cell_type": "markdown",
   "id": "cb6d9fbd",
   "metadata": {},
   "source": [
    "## 1.6. Change Types"
   ]
  },
  {
   "cell_type": "markdown",
   "id": "e042d58f",
   "metadata": {},
   "source": [
    "## 1.7. Descriptive Statistics"
   ]
  },
  {
   "cell_type": "markdown",
   "id": "dcf5663d",
   "metadata": {},
   "source": [
    "### 1.7.1. Numerical Attributes"
   ]
  },
  {
   "cell_type": "markdown",
   "id": "3d59b47f",
   "metadata": {},
   "source": [
    "### 1.7.2. Categorical Attributes"
   ]
  },
  {
   "cell_type": "markdown",
   "id": "b4522ed2",
   "metadata": {},
   "source": [
    "# 2.0. STEP 02 - FEATURING ENGINEERING"
   ]
  },
  {
   "cell_type": "code",
   "execution_count": 23,
   "id": "2f27fb5d",
   "metadata": {},
   "outputs": [],
   "source": [
    "df2 = df1.copy()"
   ]
  },
  {
   "cell_type": "markdown",
   "id": "e14c8f4e",
   "metadata": {},
   "source": [
    "## 2.1. Mind Map Hypotheses"
   ]
  },
  {
   "cell_type": "markdown",
   "id": "046a441a",
   "metadata": {},
   "source": [
    "## 2.2. Hypotheses Creation"
   ]
  },
  {
   "cell_type": "markdown",
   "id": "fe918103",
   "metadata": {},
   "source": [
    "## 2.3 Final List of Hypothesis"
   ]
  },
  {
   "cell_type": "markdown",
   "id": "e412a1a6",
   "metadata": {},
   "source": [
    "## 2.4. Feature Engineering"
   ]
  },
  {
   "cell_type": "markdown",
   "id": "31b04d8e",
   "metadata": {},
   "source": [
    "# 3.0. STEP 03 - FILTERING VARIABLES"
   ]
  },
  {
   "cell_type": "code",
   "execution_count": 30,
   "id": "266a20d9",
   "metadata": {},
   "outputs": [],
   "source": [
    "df3 = df2.copy()"
   ]
  },
  {
   "cell_type": "markdown",
   "id": "44ca951f",
   "metadata": {},
   "source": [
    "## 3.1. Rows Filtering"
   ]
  },
  {
   "cell_type": "markdown",
   "id": "73c2e2de",
   "metadata": {},
   "source": [
    "## 3.2. Columns Selection"
   ]
  },
  {
   "cell_type": "markdown",
   "id": "ffb98191",
   "metadata": {},
   "source": [
    "# 4.0. STEP 04 - EXPLORATORY DATA ANALYSIS"
   ]
  },
  {
   "cell_type": "code",
   "execution_count": 37,
   "id": "954a112c",
   "metadata": {},
   "outputs": [],
   "source": [
    "df4 = df3.copy()"
   ]
  },
  {
   "cell_type": "markdown",
   "id": "947986cf",
   "metadata": {},
   "source": [
    "## 4.1. Univariate Analysis"
   ]
  },
  {
   "cell_type": "markdown",
   "id": "46d39547",
   "metadata": {},
   "source": [
    "### 4.1.1. Response Variable"
   ]
  },
  {
   "cell_type": "markdown",
   "id": "a68c770a",
   "metadata": {},
   "source": [
    "### 4.1.2. Numerical Variables"
   ]
  },
  {
   "cell_type": "markdown",
   "id": "61876bdd",
   "metadata": {},
   "source": [
    "### 4.1.3. Categorical Variables"
   ]
  },
  {
   "cell_type": "markdown",
   "id": "709426c3",
   "metadata": {},
   "source": [
    "## 4.2. Bivariate Analysis"
   ]
  },
  {
   "cell_type": "markdown",
   "id": "c3f461d1",
   "metadata": {},
   "source": [
    "### 4.2.1. Hypotheses Summary"
   ]
  },
  {
   "cell_type": "markdown",
   "id": "f7f7b8d6",
   "metadata": {},
   "source": [
    "## 4.3. Multivariate Analysis"
   ]
  },
  {
   "cell_type": "markdown",
   "id": "3048d735",
   "metadata": {},
   "source": [
    "### 4.3.1. Numerical Attributes"
   ]
  },
  {
   "cell_type": "markdown",
   "id": "d0afe6e0",
   "metadata": {},
   "source": [
    "### 4.3.2. Categorical Attributes"
   ]
  },
  {
   "cell_type": "markdown",
   "id": "a900ba1f",
   "metadata": {},
   "source": [
    "# 5.0. STEP 05 - DATA PREPARATION"
   ]
  },
  {
   "cell_type": "code",
   "execution_count": 62,
   "id": "3fb91a21",
   "metadata": {},
   "outputs": [],
   "source": [
    "df5 = df4.copy()"
   ]
  },
  {
   "cell_type": "markdown",
   "id": "b0fd14d0",
   "metadata": {},
   "source": [
    "## 5.1. Normalization"
   ]
  },
  {
   "cell_type": "markdown",
   "id": "f0e72af5",
   "metadata": {},
   "source": [
    "## 5.2. Rescaling"
   ]
  },
  {
   "cell_type": "markdown",
   "id": "5d614cdb",
   "metadata": {},
   "source": [
    "## 5.3. Transformation"
   ]
  },
  {
   "cell_type": "markdown",
   "id": "9e3c1d6f",
   "metadata": {},
   "source": [
    "### 5.3.1. Encoding"
   ]
  },
  {
   "cell_type": "markdown",
   "id": "eaf6157b",
   "metadata": {},
   "source": [
    "### 5.3.2. Response Variable Transformation"
   ]
  },
  {
   "cell_type": "code",
   "execution_count": 65,
   "id": "764bcf1f",
   "metadata": {},
   "outputs": [],
   "source": [
    "df5['sales'] = np.log1p( df5['sales'] )"
   ]
  },
  {
   "cell_type": "markdown",
   "id": "caee6f94",
   "metadata": {},
   "source": [
    "# 6.0. STEP 06 - FEATURE SELECTION"
   ]
  },
  {
   "cell_type": "code",
   "execution_count": 70,
   "id": "10153d71",
   "metadata": {},
   "outputs": [],
   "source": [
    "df6 = df5.copy()"
   ]
  },
  {
   "cell_type": "markdown",
   "id": "5c8f6f34",
   "metadata": {},
   "source": [
    "## 6.1. Split dataframe into training and test dataset"
   ]
  },
  {
   "cell_type": "markdown",
   "id": "277058dd",
   "metadata": {},
   "source": [
    "## 6.2. Boruta as Feature Selector"
   ]
  },
  {
   "cell_type": "markdown",
   "id": "7c68f8ec",
   "metadata": {},
   "source": [
    "### 6.2.1. Best Features from Boruta"
   ]
  },
  {
   "cell_type": "markdown",
   "id": "3c1a8401",
   "metadata": {},
   "source": [
    "## 6.2. Manual Feature Selection"
   ]
  },
  {
   "cell_type": "markdown",
   "id": "8cf2ae85",
   "metadata": {},
   "source": [
    "# 7.0. STEP 07 - MACHINE LEARNING MODELING"
   ]
  },
  {
   "cell_type": "markdown",
   "id": "9829a71a",
   "metadata": {},
   "source": [
    "## 7.1. Average Model"
   ]
  },
  {
   "cell_type": "markdown",
   "id": "24a8ed8c",
   "metadata": {},
   "source": [
    "## 7.2. Linear Regression Model"
   ]
  },
  {
   "cell_type": "markdown",
   "id": "1f395e32",
   "metadata": {},
   "source": [
    "### 7.2.1. Linear Regression Model - Cross Validation"
   ]
  },
  {
   "cell_type": "markdown",
   "id": "0d579252",
   "metadata": {},
   "source": [
    "## 7.3. Linear Regression Regularized Model - Lasso"
   ]
  },
  {
   "cell_type": "markdown",
   "id": "a9c15274",
   "metadata": {},
   "source": [
    "### 7.3.1. Linear Regression Regularized Model - Lasso - Cross Validation"
   ]
  },
  {
   "cell_type": "markdown",
   "id": "844ed907",
   "metadata": {},
   "source": [
    "## 7.4. Random Forest Regressor"
   ]
  },
  {
   "cell_type": "markdown",
   "id": "3790946d",
   "metadata": {},
   "source": [
    "### 7.4.1. Random Forest Regressor Model - Cross Validation"
   ]
  },
  {
   "cell_type": "markdown",
   "id": "96aea3fe",
   "metadata": {},
   "source": [
    "## 7.5. XGBoost Regressor"
   ]
  },
  {
   "cell_type": "markdown",
   "id": "291c5a16",
   "metadata": {},
   "source": [
    "### 7.5.1. XGBoost Regressor Model - Cross Validation"
   ]
  },
  {
   "cell_type": "markdown",
   "id": "7105b62f",
   "metadata": {},
   "source": [
    "## 7.6. Compare Models Performance"
   ]
  },
  {
   "cell_type": "markdown",
   "id": "a5ad6834",
   "metadata": {},
   "source": [
    "## 7.6.1. Single Performance"
   ]
  },
  {
   "cell_type": "markdown",
   "id": "fb435d42",
   "metadata": {},
   "source": [
    "## 7.6.2. Real Performance - Cross Validation"
   ]
  },
  {
   "cell_type": "markdown",
   "id": "4e08acaa",
   "metadata": {},
   "source": [
    "# 8.0. STEP 08 - HYPERPARAMETER FINE TUNING"
   ]
  },
  {
   "cell_type": "markdown",
   "id": "745854d3",
   "metadata": {},
   "source": [
    "## 8.1. Random Search"
   ]
  },
  {
   "cell_type": "markdown",
   "id": "fbaba607",
   "metadata": {},
   "source": [
    "## 8.2. Final Model"
   ]
  },
  {
   "cell_type": "markdown",
   "id": "8695f4fd",
   "metadata": {},
   "source": [
    "# 9.0. STEP 09 - PERFORMANCE EVALUATION"
   ]
  },
  {
   "cell_type": "markdown",
   "id": "accdb6a7",
   "metadata": {},
   "source": [
    "## 9.1. Business Performance"
   ]
  },
  {
   "cell_type": "markdown",
   "id": "5df97fd0",
   "metadata": {},
   "source": [
    "## 9.2. Total Performance"
   ]
  },
  {
   "cell_type": "markdown",
   "id": "6145f276",
   "metadata": {},
   "source": [
    "## 9.3. Machine Learning Performance"
   ]
  },
  {
   "cell_type": "markdown",
   "id": "72f8d9ac",
   "metadata": {},
   "source": [
    "# 10.0. STEP 10 - MODEL DEPLOYMENT"
   ]
  },
  {
   "cell_type": "markdown",
   "id": "1a655629",
   "metadata": {},
   "source": [
    "## 10.1. Rossmann Class"
   ]
  },
  {
   "cell_type": "markdown",
   "id": "b9950497",
   "metadata": {},
   "source": [
    "## 10.2. API Handler"
   ]
  },
  {
   "cell_type": "markdown",
   "id": "76b464b2",
   "metadata": {},
   "source": [
    "## 10.3. API Tester"
   ]
  }
 ],
 "metadata": {
  "kernelspec": {
   "display_name": "Python 3 (ipykernel)",
   "language": "python",
   "name": "python3"
  },
  "language_info": {
   "codemirror_mode": {
    "name": "ipython",
    "version": 3
   },
   "file_extension": ".py",
   "mimetype": "text/x-python",
   "name": "python",
   "nbconvert_exporter": "python",
   "pygments_lexer": "ipython3",
   "version": "3.8.13"
  }
 },
 "nbformat": 4,
 "nbformat_minor": 5
}
